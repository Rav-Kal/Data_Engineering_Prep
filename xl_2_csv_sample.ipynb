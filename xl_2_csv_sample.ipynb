{
 "cells": [
  {
   "cell_type": "code",
   "execution_count": null,
   "id": "3e87897f",
   "metadata": {},
   "outputs": [],
   "source": [
    "#1 - export xl to csv\n",
    "\n",
    "#steps\n",
    "#1 - define function to convert xl to csv, src dir\n",
    "#2 - create tgt directory if not exist\n",
    "#3 - check if the source is haivng files .xls or .xlsx\n",
    "#4 - assign the files to list\n",
    "#5 - loop through the list and convert each file to csv\n",
    "    #5.1 - for every xl file create a path usin import os.path.join(src, file)\n",
    "    #5.2 - read xl file into df using pandas\n",
    "    #5.3 - split the file name to get the name without extension os.splitext\n",
    "    #5.4 - create a csv file name with the same name as xl file \n",
    "    #5.5 - create a csv path for the csv files os.path.join(tgt,new_file_name + '.csv')\n",
    "    #5.6 - write the df to csv file\n",
    "    #5.7 - print the message that the file is converted\n",
    "#6 - save the csv file in tgt directory\n",
    "\n",
    "\n",
    "import pandas as pd\n",
    "import os\n",
    "\n",
    "def xl_to_csv(src_dir,tgt_dir):\n",
    "    os.makedirs(tgt_dir, exist_ok=True)\n",
    "\n",
    "    src_list = [f for f in os.listdir(src_dir) if f.endswith((\".xls\",\".xlsx\"))]\n",
    "\n",
    "    if not src_list:\n",
    "        print(\"No .xls or .xlsx files found in the source directory.\")\n",
    "        return\n",
    "    \n",
    "    for file in src_list:\n",
    "        file_path = os.path.join(src_dir, file)\n",
    "        try:\n",
    "            df = pd.read_excel(file_path)\n",
    "            new_file_name= os.path.splitext(file)[0]\n",
    "            csv_file_name = f\"{new_file_name}.csv\"\n",
    "            csv_file_path = os.path.join(tgt_dir, csv_file_name)\n",
    "            df.to_csv(csv_file_path, index=False)\n",
    "            print(f\"Converted {file} to {csv_file_name} and saved in {tgt_dir}\")\n",
    "        except Exception as e:\n",
    "            print(f\"Failed to convert {file}: {e}\")\n",
    "\n",
    "src_dir= \"path/to/source/directory\"\n",
    "tgt_dir = \"path/to/target/directory\"\n",
    "xl_to_csv(src_dir, tgt_dir)\n",
    "\n"
   ]
  }
 ],
 "metadata": {
  "kernelspec": {
   "display_name": "Python 3",
   "language": "python",
   "name": "python3"
  },
  "language_info": {
   "codemirror_mode": {
    "name": "ipython",
    "version": 3
   },
   "file_extension": ".py",
   "mimetype": "text/x-python",
   "name": "python",
   "nbconvert_exporter": "python",
   "pygments_lexer": "ipython3",
   "version": "3.13.5"
  }
 },
 "nbformat": 4,
 "nbformat_minor": 5
}
