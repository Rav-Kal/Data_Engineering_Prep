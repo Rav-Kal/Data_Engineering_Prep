{
 "cells": [
  {
   "cell_type": "code",
   "execution_count": null,
   "id": "e8c0646e",
   "metadata": {},
   "outputs": [
    {
     "name": "stdout",
     "output_type": "stream",
     "text": [
      "Copied: retail_dataset_customers.csv\n",
      "Copied: retail_dataset_products.csv\n",
      "Copied: retail_dataset_stores.csv\n",
      "Copied: retail_dataset_transactions.csv\n",
      "Files copied successfully. Copied file count is 4\n"
     ]
    }
   ],
   "source": [
    "import shutil # shellutilities lib for copying files\n",
    "import os\n",
    "\n",
    "def copy_files(source_folder, target_folder):\n",
    "    os.makedirs(target_folder, exist_ok=True)\n",
    "    count = 0 # variable for counting copied files\n",
    "    for filename in os.listdir(source_folder):\n",
    "        if filename.startswith(\"retail_\") and filename.endswith(\".csv\"):  # check for specific file naming convention\n",
    "            src_file = os.path.join(source_folder, filename)\n",
    "            dest_file = os.path.join(target_folder, filename)\n",
    "\n",
    "            if os.path.isfile(src_file): #check if the file exists\n",
    "                try:\n",
    "                    shutil.copy(src_file, dest_file) \n",
    "                    print(f\"Copied: {filename}\")\n",
    "                    count += 1 #increment count for each copied file\n",
    "                except Exception as e:\n",
    "                    print(f\"Failed to copy {filename}: {e}\")\n",
    "    if count == 0:\n",
    "        print(\"No files copied. Please check the source folder and file naming convention.\")\n",
    "    else:\n",
    "        print(f\"Files copied successfully. Copied file count is {count}\")\n",
    "\n",
    "source_folder = r'D:\\Ravi_Data_Engineer\\00_Master_Data_Sets\\01_csv'\n",
    "target_folder = r'D:\\Ravi_Data_Engineer\\01_Source\\01_landing'\n",
    "\n",
    "copy_files(source_folder, target_folder)\n"
   ]
  }
 ],
 "metadata": {
  "kernelspec": {
   "display_name": "Python 3",
   "language": "python",
   "name": "python3"
  },
  "language_info": {
   "codemirror_mode": {
    "name": "ipython",
    "version": 3
   },
   "file_extension": ".py",
   "mimetype": "text/x-python",
   "name": "python",
   "nbconvert_exporter": "python",
   "pygments_lexer": "ipython3",
   "version": "3.13.5"
  }
 },
 "nbformat": 4,
 "nbformat_minor": 5
}
