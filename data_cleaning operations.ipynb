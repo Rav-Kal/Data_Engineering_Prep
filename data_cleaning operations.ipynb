{
 "cells": [
  {
   "cell_type": "code",
   "execution_count": 52,
   "id": "8411e1a2",
   "metadata": {},
   "outputs": [
    {
     "name": "stdout",
     "output_type": "stream",
     "text": [
      "    id name subject  marks\n",
      "0  1.0   NA       M  32.00\n",
      "1  2.0    R       S  45.52\n",
      "2  3.0   NA      NA  29.84\n",
      "4  5.0    S       T  12.00\n",
      "6  6.0    P       E  29.84\n"
     ]
    }
   ],
   "source": [
    "#practise cleaning using pandas and re with test data set(test.csv)\n",
    "\n",
    "import pandas as pd\n",
    "import re\n",
    "\n",
    "df = pd.read_csv(r'D:\\Ravi_Data_Engineer\\test.csv') # reading csv file using pandas\n",
    "#cleaning columns - converting to lowercase, trimming, removing unwanted .,numerics, duplicates, special chars\n",
    "df.columns = (\n",
    "    df.columns\n",
    "      .str.lower() # converting to lower case\n",
    "      .str.replace(r'\\.\\d+$', '', regex=True) # removing the last occurences of . followed by digits\n",
    "      .str.replace(r'[^\\w\\s]', '', regex=True) #removing the special chars\n",
    "      .str.strip() # trimming\n",
    "      )\n",
    "# Now drop duplicate columns\n",
    "df = df.loc[:, ~df.columns.duplicated()]\n",
    "# cleaning rows like droping all field null rows, droping duplicates, filling NULL string cols with NA, \n",
    "# filling NULL numeric cols with mean and rounding off to 2 decimal points\n",
    "df = df.dropna(how='all')\n",
    "df = df.drop_duplicates()\n",
    "#string fields\n",
    "string_cols = df.select_dtypes(include = 'object').columns\n",
    "df[string_cols]=df[string_cols].fillna('NA')\n",
    "#numeric fields\n",
    "num_cols =df.select_dtypes(include ='number').columns\n",
    "df[num_cols]=df[num_cols].apply(lambda x: x.fillna(x.mean()))\n",
    "df[num_cols]=df[num_cols].apply(lambda x: round(x,2))\n",
    "#using lambda to do row operatiosn like, trimming each row, removing special chars for str fields\n",
    "df = df.map(lambda x: x.strip() if isinstance(x,str) else x)\n",
    "df = df.map(lambda x: re.sub(r'[^\\w\\s]','',str(x)) if isinstance(x,str) else x)\n",
    "#writing output to tgt file\n",
    "df.to_csv(r'D:\\Ravi_Data_Engineer\\test_out.csv', index=False)\n",
    "print(df)"
   ]
  },
  {
   "cell_type": "code",
   "execution_count": 50,
   "id": "0ababed8",
   "metadata": {},
   "outputs": [
    {
     "name": "stdout",
     "output_type": "stream",
     "text": [
      "Before cleaning:\n",
      " [' iD ', 'NamE', 'sUbJect ', 'm@aRkS', ' iD .1']\n",
      "After cleaning:\n",
      " ['id', 'name', 'subject', 'marks', 'id']\n"
     ]
    }
   ],
   "source": [
    "import pandas as pd\n",
    "import re\n",
    "\n",
    "df = pd.read_csv(r'D:\\Ravi_Data_Engineer\\test.csv') # reading csv file using pandas\n",
    "print(\"Before cleaning:\\n\", df.columns.tolist())\n",
    "df.columns = (\n",
    "    df.columns\n",
    "    .str.lower()\n",
    "    .str.replace(r'\\.\\d+$', '', regex=True)  # remove .1, .2 suffixes\n",
    "    .str.replace(r'[^\\w\\s]', '', regex=True)  # remove special chars\n",
    "    .str.strip()  # optional: normalize spaces to underscores\n",
    ")\n",
    "\n",
    "print(\"After cleaning:\\n\", df.columns.tolist())"
   ]
  }
 ],
 "metadata": {
  "kernelspec": {
   "display_name": "Python 3",
   "language": "python",
   "name": "python3"
  },
  "language_info": {
   "codemirror_mode": {
    "name": "ipython",
    "version": 3
   },
   "file_extension": ".py",
   "mimetype": "text/x-python",
   "name": "python",
   "nbconvert_exporter": "python",
   "pygments_lexer": "ipython3",
   "version": "3.13.5"
  }
 },
 "nbformat": 4,
 "nbformat_minor": 5
}
