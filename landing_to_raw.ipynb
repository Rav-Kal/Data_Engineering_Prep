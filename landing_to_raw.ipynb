{
 "cells": [
  {
   "cell_type": "code",
   "execution_count": null,
   "id": "26fc7437",
   "metadata": {},
   "outputs": [
    {
     "name": "stdout",
     "output_type": "stream",
     "text": [
      "Copied file: retail_dataset_customers.csv\n",
      "Copied file: retail_dataset_products.csv\n",
      "Copied file: retail_dataset_stores.csv\n",
      "Copied file: retail_dataset_transactions.csv\n",
      "Total files copied:4\n"
     ]
    }
   ],
   "source": [
    "import shutil\n",
    "import os\n",
    "\n",
    "\n",
    "def copy_files_to_raw(Src_dir, Tgt_dir):\n",
    "    os.makedirs(Tgt_dir,exist_ok=True)\n",
    "    count=0\n",
    "    File_list = os.listdir(Src_dir)\n",
    "    for filename in File_list:\n",
    "        #ignored if here as ALL the files in landing_dir has to moved to raw_dir\n",
    "        src_file = os.path.join(Src_dir,filename)\n",
    "        orig_name = os.path.splitext(filename)[0]\n",
    "        ext = os.path.splitext(filename)[1]\n",
    "        new_name = f\"raw_{orig_name}{ext}\" # created a new name for the files with prefix as raw_\n",
    "        tgt_file = os.path.join(Tgt_dir,new_name)\n",
    "\n",
    "        if os.path.isfile(src_file):\n",
    "            try:\n",
    "                shutil.copy2(src_file, tgt_file) # used copy2 to set the metadata as well\n",
    "                print(f\"Copied file: {filename}\")\n",
    "                count+=1\n",
    "            except Exception as e:\n",
    "                print(f\"Error copying file {filename}: {e}\")\n",
    "\n",
    "    if count == 0:\n",
    "        print(f\"No files copied from {Src_dir} to {Tgt_dir}.\")\n",
    "\n",
    "    else:\n",
    "        print(f\"Total files copied:{count}\")\n",
    "\n",
    "Src_dir = r'D:\\Ravi_Data_Engineer\\01_Source\\01_landing'\n",
    "Tgt_dir = r'D:\\Ravi_Data_Engineer\\02_Target\\01_raw'\n",
    "\n",
    "copy_files_to_raw(Src_dir, Tgt_dir)\n",
    "\n",
    "\n",
    "\n",
    "\n",
    "            \n"
   ]
  }
 ],
 "metadata": {
  "kernelspec": {
   "display_name": "Python 3",
   "language": "python",
   "name": "python3"
  },
  "language_info": {
   "codemirror_mode": {
    "name": "ipython",
    "version": 3
   },
   "file_extension": ".py",
   "mimetype": "text/x-python",
   "name": "python",
   "nbconvert_exporter": "python",
   "pygments_lexer": "ipython3",
   "version": "3.13.5"
  }
 },
 "nbformat": 4,
 "nbformat_minor": 5
}
