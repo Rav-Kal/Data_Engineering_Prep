{
 "cells": [
  {
   "cell_type": "code",
   "execution_count": 10,
   "id": "c2cd4e61",
   "metadata": {},
   "outputs": [
    {
     "name": "stdout",
     "output_type": "stream",
     "text": [
      "❌ No jobs found — site structure may have changed.\n"
     ]
    }
   ],
   "source": [
    "import requests\n",
    "from bs4 import BeautifulSoup\n",
    "import pandas as pd\n",
    "\n",
    "PRODUCT_MNCS = {\n",
    "    \"amazon\",\"google\",\"microsoft\",\"oracle\",\"meta\",\"facebook\",\"apple\",\n",
    "    \"salesforce\",\"adobe\",\"sap\",\"vmware\",\"intuit\",\"uber\",\"netflix\",\"paypal\"\n",
    "}\n",
    "\n",
    "def categorize(name):\n",
    "    n = name.lower()\n",
    "    if any(p in n for p in PRODUCT_MNCS):\n",
    "        return \"Product MNC\"\n",
    "    if any(x in n for x in [\"tech\",\"labs\",\"solutions\",\"services\",\"analytics\",\"systems\"]):\n",
    "        return \"MNC\"\n",
    "    return \"Startup\"\n",
    "\n",
    "def scrape_adzuna():\n",
    "    url = \"https://www.adzuna.in/search/etl%20developer%20informatica%20talend%20sql\"\n",
    "    headers = {\"User-Agent\": \"Mozilla/5.0\"}\n",
    "    resp = requests.get(url, headers=headers)\n",
    "    soup = BeautifulSoup(resp.text, \"html.parser\")\n",
    "    jobs = []\n",
    "    for card in soup.select(\".job__card\"):\n",
    "        t = card.select_one(\"a.job__title\")\n",
    "        c = card.select_one(\".job__company\")\n",
    "        if not (t and c): continue\n",
    "        jobs.append({\n",
    "            \"Title\": t.text.strip(),\n",
    "            \"Company\": c.text.strip(),\n",
    "            \"CompanyType\": categorize(c.text.strip()),\n",
    "            \"Source\": \"Adzuna\",\n",
    "            \"Link\": t[\"href\"]\n",
    "        })\n",
    "    return jobs\n",
    "\n",
    "def scrape_glassdoor():\n",
    "    url = \"https://www.glassdoor.co.in/Job/india-etl-developer-informatica-and-talend-jobs-SRCH_IL.0,5_IN115_KO6,42.htm\"\n",
    "    headers = {\"User-Agent\": \"Mozilla/5.0\"}\n",
    "    resp = requests.get(url, headers=headers)\n",
    "    soup = BeautifulSoup(resp.text, \"html.parser\")\n",
    "    jobs = []\n",
    "    for card in soup.select(\".react-job-listing\"):\n",
    "        title = card.get(\"data-job-title\")\n",
    "        company = card.get(\"data-company-name\")\n",
    "        link = card.get(\"data-url\")\n",
    "        if not (title and company and link): continue\n",
    "        jobs.append({\n",
    "            \"Title\": title.strip(),\n",
    "            \"Company\": company.strip(),\n",
    "            \"CompanyType\": categorize(company),\n",
    "            \"Source\": \"Glassdoor\",\n",
    "            \"Link\": \"https://www.glassdoor.co.in\" + link\n",
    "        })\n",
    "    return jobs\n",
    "\n",
    "def main():\n",
    "    all_jobs = scrape_adzuna() + scrape_glassdoor()\n",
    "    if not all_jobs:\n",
    "        print(\"❌ No jobs found — site structure may have changed.\")\n",
    "        return\n",
    "\n",
    "    df = pd.DataFrame(all_jobs)\n",
    "    df[\"Rank\"] = df[\"CompanyType\"].map({\"Product MNC\":0, \"MNC\":1, \"Startup\":2})\n",
    "    df = df.sort_values([\"Rank\", \"Source\"]).drop(columns=\"Rank\")\n",
    "    df.to_excel(\"ETL_Jobs_List.xlsx\", index=False)\n",
    "    print(f\"✅ Found and saved {len(df)} job listings to ETL_Jobs_List.xlsx\")\n",
    "\n",
    "if __name__ == \"__main__\":\n",
    "    main()\n"
   ]
  },
  {
   "cell_type": "code",
   "execution_count": null,
   "id": "ca344161",
   "metadata": {},
   "outputs": [],
   "source": []
  }
 ],
 "metadata": {
  "kernelspec": {
   "display_name": "Python 3",
   "language": "python",
   "name": "python3"
  },
  "language_info": {
   "codemirror_mode": {
    "name": "ipython",
    "version": 3
   },
   "file_extension": ".py",
   "mimetype": "text/x-python",
   "name": "python",
   "nbconvert_exporter": "python",
   "pygments_lexer": "ipython3",
   "version": "3.13.5"
  }
 },
 "nbformat": 4,
 "nbformat_minor": 5
}
