{
 "cells": [
  {
   "cell_type": "code",
   "execution_count": null,
   "id": "3f9057ca",
   "metadata": {},
   "outputs": [
    {
     "name": "stdout",
     "output_type": "stream",
     "text": [
      "notregularexpression: 12.060616731643677\n",
      "regularexpression: 47.608182191848755\n"
     ]
    }
   ],
   "source": [
    "import os\n",
    "import time\n",
    "import re\n",
    "\n",
    "files_list = [\"Retail_1.csv\",\"Data_2.csv\"]*1000000\n",
    "\n",
    "start = time.time()\n",
    "match = [f for f in files_list if f.startswith(\"Retail\") and f.endswith(\".csv\")]\n",
    "print(\"notregularexpression:\", time.time() - start )\n",
    "\n",
    "pattern = re.compile(r\"^Retail.*\\.csv$\")\n",
    "start = time.time()\n",
    "match = [f for f in files_list if pattern.match(f)]\n",
    "print(\"regularexpression:\", time.time() - start )\n",
    "\n",
    "\n",
    "\n",
    "\n"
   ]
  }
 ],
 "metadata": {
  "kernelspec": {
   "display_name": "Python 3",
   "language": "python",
   "name": "python3"
  },
  "language_info": {
   "codemirror_mode": {
    "name": "ipython",
    "version": 3
   },
   "file_extension": ".py",
   "mimetype": "text/x-python",
   "name": "python",
   "nbconvert_exporter": "python",
   "pygments_lexer": "ipython3",
   "version": "3.13.5"
  }
 },
 "nbformat": 4,
 "nbformat_minor": 5
}
