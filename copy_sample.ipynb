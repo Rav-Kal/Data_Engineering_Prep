{
 "cells": [
  {
   "cell_type": "code",
   "execution_count": null,
   "id": "a7479972",
   "metadata": {},
   "outputs": [],
   "source": [
    "#copy files to diff loc\n",
    "#steps\n",
    "#1 - for copying we need shell utilities lib so import\n",
    "#2 - define the source and destination directories\n",
    "#3 - def copy_files function(src_dir,tgt_dir):\n",
    "#4 - use os.listdir to get the list of files in the source directory\n",
    "#5 - iterate over the files and copy each file to the target directory\n",
    "#6 - use shutil.copy to copy the file\n",
    "#7 - print a message indicating that the file has been copied\n",
    "#8 - call the copy_files function with the source and target directories\n",
    "\n",
    "import os\n",
    "import shutil\n",
    "\n",
    "def copy_files(src_dir,tgt_dir):\n",
    "    os.makedirs(tgt_dir,exist_ok=True)\n",
    "    count=0\n",
    "    for filename in os.listdir(src_dir):\n",
    "        if filename.startwith(\"Retail\") and filename.endswith(\".csv\"):\n",
    "            src_file  = os.path.join(src_dir,filename)\n",
    "            tgt_file = os.path.join(tgt_dir,filename)\n",
    "            try:\n",
    "                shutil.copy2(src_file,tgt_file) # copies metadata too with copy2 command\n",
    "                count+=1\n",
    "                print(f\"Copied {filename} to {tgt_dir}\")\n",
    "            except Exception as e:\n",
    "                print(f\"Error copying {filename}: {e}\")\n",
    "    if count == 0:\n",
    "        print(\"No files copied. Please check the source directory and file naming conventions.\")\n",
    "    else:\n",
    "        print(f\"Total {count} files copied to {tgt_dir}\")\n",
    "\n",
    "# Define the source and destination directories\n",
    "src_directory = '/path/to/source/directory'\n",
    "tgt_directory = '/path/to/target/directory'\n",
    "# Call the copy_files function with the source and target directories\n",
    "copy_files(src_directory, tgt_directory)\n",
    "\n"
   ]
  }
 ],
 "metadata": {
  "kernelspec": {
   "display_name": "Python 3",
   "language": "python",
   "name": "python3"
  },
  "language_info": {
   "name": "python",
   "version": "3.13.5"
  }
 },
 "nbformat": 4,
 "nbformat_minor": 5
}
